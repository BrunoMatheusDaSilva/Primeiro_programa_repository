{
 "cells": [
  {
   "cell_type": "code",
   "execution_count": 19,
   "id": "c6ba8146",
   "metadata": {},
   "outputs": [
    {
     "name": "stdout",
     "output_type": "stream",
     "text": [
      "Olá, Digite as Quatro Notas Bimestrais para descobrir a Média.\n",
      "# Lembrando que o aluno precisa atingir pelo menos 7 de MÉDIA para ser aprovado.\n",
      " \n",
      "Digite a primeira nota: 5\n",
      "Digite a segunda nota: 8\n",
      "Digite a terceira nota: 7\n",
      "Digite a quarta nota: 9\n",
      " \n",
      "Status = Aprovado!\n",
      "A Média do respectivo aluno é igual: 7.2\n"
     ]
    }
   ],
   "source": [
    "# Programa que pede Quatro Notas Bimestrais de um aluno e calcula a Média! \n",
    "\n",
    "# Introdução do programa:\n",
    "print('Olá, Digite as Quatro Notas Bimestrais para descobrir a Média.')\n",
    "print('# Lembrando que o aluno precisa atingir pelo menos 7 de MÉDIA para ser aprovado.')\n",
    "\n",
    "print(' ')\n",
    "\n",
    "# Variáveis de entrada e cálculo das notas:\n",
    "nota1 = float(input('Digite a primeira nota: '))\n",
    "nota2 = float(input('Digite a segunda nota: '))\n",
    "nota3 = float(input('Digite a terceira nota: '))\n",
    "nota4 = float(input('Digite a quarta nota: '))\n",
    "media = (nota1 + nota2 + nota3 + nota4) / 4\n",
    "\n",
    "print(' ')\n",
    "\n",
    "# Condições para a saída:\n",
    "if media >= 7:\n",
    "    if media == 10:\n",
    "        print('Status = Aprovado com Distinção!! (Nota Máxima).')\n",
    "    else:\n",
    "        print('Status = Aprovado!')\n",
    "elif media < 7:\n",
    "    print('Status = Reprovado!')\n",
    "\n",
    "# Saída:\n",
    "print('A Média do respectivo aluno é igual: {:.1f}'.format(media))\n",
    "\n",
    "# FIM DO PROGRAMA!"
   ]
  }
 ],
 "metadata": {
  "kernelspec": {
   "display_name": "Python 3 (ipykernel)",
   "language": "python",
   "name": "python3"
  },
  "language_info": {
   "codemirror_mode": {
    "name": "ipython",
    "version": 3
   },
   "file_extension": ".py",
   "mimetype": "text/x-python",
   "name": "python",
   "nbconvert_exporter": "python",
   "pygments_lexer": "ipython3",
   "version": "3.9.7"
  }
 },
 "nbformat": 4,
 "nbformat_minor": 5
}
